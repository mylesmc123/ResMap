{
 "cells": [
  {
   "cell_type": "code",
   "execution_count": null,
   "metadata": {},
   "outputs": [],
   "source": [
    "import geopandas as gpd\n",
    "import folium\n",
    "from utils import ras_output_wse_shp_to_nc\n",
    "import pandas as pd\n",
    "import numpy as np"
   ]
  },
  {
   "cell_type": "code",
   "execution_count": null,
   "metadata": {},
   "outputs": [],
   "source": [
    "wse_gdf = gpd.read_file(r'Z:\\js\\ResMap\\py\\output\\2yr Existing\\tempfiles\\ras_wse.shp')\n",
    "wse_gdf.to_crs(epsg=4326, inplace=True)\n",
    "# Compute depth as [max_wse - min_elev]\n",
    "wse_gdf['depth_max'] = wse_gdf['wse_max'] - wse_gdf['min_elev']\n",
    "wse_gdf['depth_max'] = wse_gdf['depth_max'].round(2)\n",
    "wse_gdf.crs"
   ]
  },
  {
   "cell_type": "code",
   "execution_count": null,
   "metadata": {},
   "outputs": [],
   "source": [
    "max_wse_gdf = wse_gdf[['geometry', 'min_elev', 'wse_max', 'depth_max']]\n",
    "max_wse_gdf.shape"
   ]
  },
  {
   "cell_type": "code",
   "execution_count": null,
   "metadata": {},
   "outputs": [],
   "source": [
    "max_wse_gdf = max_wse_gdf[max_wse_gdf['depth_max'] > 0]\n",
    "max_wse_gdf.shape"
   ]
  },
  {
   "cell_type": "code",
   "execution_count": null,
   "metadata": {},
   "outputs": [],
   "source": [
    "f = folium.Figure(width=800, height=550)\n",
    "m = folium.Map(location=[30.87, -93.29],tiles='cartodbpositron', zoom_start=13, min_zoom = 10, max_zoom=15).add_to(f)"
   ]
  },
  {
   "cell_type": "code",
   "execution_count": null,
   "metadata": {},
   "outputs": [],
   "source": [
    "wse_style = lambda x: {\n",
    "    \"color\": \"#E5214E\",\n",
    "    \"fill\": False,\n",
    "    \"opacity\": 1\n",
    "}\n",
    "clip_style = lambda x: {\n",
    "    \"color\": \"#21E5D6\",\n",
    "    \"fill\": False,\n",
    "    \"opacity\": 1\n",
    "}"
   ]
  },
  {
   "cell_type": "code",
   "execution_count": null,
   "metadata": {},
   "outputs": [],
   "source": [
    "g = folium.GeoJson(data=max_wse_gdf, style_function=wse_style).add_to(m)\n",
    "# folium.GeoJsonTooltip(\n",
    "#     fields=[\"depth_max\", \"wse_max\", \"min_elev\"],\n",
    "#     aliases=[\"Depth:\", \"WSE:\", \"Elevation:\"]\n",
    "# ).add_to(g)\n",
    "\n",
    "m"
   ]
  },
  {
   "cell_type": "code",
   "execution_count": null,
   "metadata": {},
   "outputs": [],
   "source": [
    "# Clip to Ras Mapper extracted Depth Extent\n",
    "bounds_gdf = gpd.read_file(r'Z:\\js\\ResMap\\data\\westPark\\2yr Existing Depth.geojson')\n",
    "bounds_gdf.crs"
   ]
  },
  {
   "cell_type": "code",
   "execution_count": null,
   "metadata": {},
   "outputs": [],
   "source": [
    "tooltip_clip_gdf = gpd.clip(max_wse_gdf, bounds_gdf) "
   ]
  },
  {
   "cell_type": "code",
   "execution_count": null,
   "metadata": {},
   "outputs": [],
   "source": [
    "g = folium.GeoJson(data=tooltip_clip_gdf, style_function=clip_style).add_to(m)\n",
    "folium.GeoJsonTooltip(\n",
    "    fields=[\"depth_max\", \"wse_max\", \"min_elev\"],\n",
    "    aliases=[\"Depth:\", \"WSE:\", \"Elevation:\"]\n",
    ").add_to(g)\n",
    "\n",
    "m"
   ]
  },
  {
   "cell_type": "code",
   "execution_count": null,
   "metadata": {},
   "outputs": [],
   "source": [
    "import xarray as xr\n",
    "nc_file = r'Z:\\js\\ResMap\\py\\output\\2yr Existing\\RAS_WSE_Timeseries.nc'\n",
    "ds = xr.open_dataset(nc_file, decode_cf=False )\n",
    "ds\n"
   ]
  },
  {
   "cell_type": "code",
   "execution_count": null,
   "metadata": {},
   "outputs": [],
   "source": [
    "ds.close()"
   ]
  },
  {
   "cell_type": "code",
   "execution_count": null,
   "metadata": {},
   "outputs": [],
   "source": [
    "ds['values'][0].plot()"
   ]
  },
  {
   "cell_type": "code",
   "execution_count": null,
   "metadata": {},
   "outputs": [],
   "source": [
    "# \n",
    "# ds['values'][0]\n",
    "import datetime\n",
    "import pandas as pd\n",
    "import os\n",
    "import numpy as np\n",
    "\n",
    "points_csv = pd.read_csv(r'Z:\\js\\ResMap\\py\\ts_points.txt')\n",
    "times = ds['time'].values\n",
    "for station in range(len(ds['values'])):\n",
    "    # print (ds['values'][station].values)\n",
    "    \n",
    "    name = points_csv[points_csv['point_id'] == ds['point_id'][station].values].point_name.values[0]\n",
    "    values = ds['values'][station].values\n",
    "    \n",
    "    # print (times)\n",
    "    df = pd.DataFrame({'time': times, 'values': values})\n",
    "    df['datetime'] = df['time'].apply(lambda x: datetime.datetime.fromtimestamp(x).strftime('%Y-%m-%d %H:%M:%S'))\n",
    "    df.drop(columns=['time'], inplace=True)\n",
    "    df['values'].replace({-9999.0:np.NaN}, inplace=True)\n",
    "    # convert to json\n",
    "    json_file = os.path.join(r'Z:\\js\\ResMap\\data\\westPark\\timeseries', f'{name} timeseries.json')\n",
    "    \n",
    "    df.to_json(json_file, orient='records')\n",
    "# df.plot(x = 'datetime', y = 'values')\n",
    "df['values'].max"
   ]
  },
  {
   "cell_type": "code",
   "execution_count": null,
   "metadata": {},
   "outputs": [],
   "source": [
    "df.plot()"
   ]
  },
  {
   "cell_type": "code",
   "execution_count": null,
   "metadata": {},
   "outputs": [],
   "source": []
  },
  {
   "cell_type": "code",
   "execution_count": null,
   "metadata": {},
   "outputs": [],
   "source": [
    "import pandas as pd\n",
    "# convert to dataframe\n",
    "df = ds.to_dataframe()\n",
    "df.index\n",
    "# df['datetime'] = pd.to_datetime(df[\"time\"], unit='s')\n",
    "# convert to json\n",
    "# json_file = os.path.join(args.datadirectory, f'{args.forecastname}_timeseries.json')"
   ]
  },
  {
   "cell_type": "code",
   "execution_count": null,
   "metadata": {},
   "outputs": [],
   "source": [
    "ds.close()"
   ]
  },
  {
   "cell_type": "code",
   "execution_count": null,
   "metadata": {},
   "outputs": [],
   "source": [
    "hdf_filename = 'S:\\\\For_Myles\\\\WestPark\\\\HEC-RASV6.3.1\\\\WestPark.p11.hdf'\n",
    "hdf_interval = '30MIN'\n",
    "hdf_starttime = '01Jan3000 00:00:00'\n",
    "poly_wse_shp = 'Z:\\\\js\\\\ResMap\\\\py\\\\output\\\\2yr Existing\\\\tempfiles\\\\ras_wse.shp'\n",
    "stations_locations_txt = 'Z:\\\\js\\\\ResMap\\\\py\\\\ts_points.txt'\n",
    "output_nc = 'Z:\\\\js\\\\ResMap\\\\py\\\\output\\\\2yr Existing\\\\RAS_WSE_Timeseries.nc'\n",
    "\n",
    "\n",
    "# ras_output_wse_shp_to_nc.wse_shp_to_nc(poly_wse_shp, stations_locations_txt, hdf_filename, output_nc)"
   ]
  },
  {
   "cell_type": "code",
   "execution_count": null,
   "metadata": {},
   "outputs": [],
   "source": [
    "from scipy.spatial import cKDTree\n",
    "wse_gdf = gpd.read_file(poly_wse_shp)\n",
    "crs = wse_gdf.crs\n",
    "wse_gdf.to_crs(epsg=4326, inplace=True)\n",
    "\n",
    "station_locations = pd.read_csv(stations_locations_txt)\n",
    "\n",
    "hiway_gdf = gpd.GeoDataFrame(\n",
    "    station_locations, geometry=gpd.points_from_xy(station_locations['x'], station_locations['y']))\n",
    "hiway_gdf.crs = 'epsg:4326'\n",
    "\n",
    "\n",
    "\n"
   ]
  },
  {
   "cell_type": "code",
   "execution_count": null,
   "metadata": {},
   "outputs": [],
   "source": [
    "# Create the geometry x & y from the centroid of each feature in the wse shp file.\n",
    "wse_gdf[\"x\"] = wse_gdf.centroid.x\n",
    "wse_gdf[\"y\"] = wse_gdf.centroid.y\n",
    "\n",
    "# Create a point feature geoDataframe from the centroid geometry.\n",
    "wse_points = wse_gdf.copy()\n",
    "wse_points['geometry'] = wse_points['geometry'].centroid"
   ]
  },
  {
   "cell_type": "code",
   "execution_count": null,
   "metadata": {},
   "outputs": [],
   "source": [
    "# Get a dataframe of the closest wse to each station location.\n",
    "# nearest_gdf = ckdnearest(hiway_gdf, wse_points)\n",
    "\n",
    "gdA = hiway_gdf\n",
    "gdB = wse_points\n",
    "\n",
    "nA = np.array(list(gdA.geometry.apply(lambda x: (x.x, x.y))))\n",
    "nB = np.array(list(gdB.geometry.apply(lambda x: (x.x, x.y))))\n",
    "btree = cKDTree(nB)\n",
    "dist, idx = btree.query(nA, k=1)\n",
    "gdB_nearest = gdB.iloc[idx].drop(columns=\"geometry\").reset_index(drop=True)\n",
    "gdf = pd.concat(\n",
    "    [\n",
    "        gdA.reset_index(drop=True),\n",
    "        gdB_nearest,\n",
    "        pd.Series(dist, name='dist')\n",
    "    ], \n",
    "    axis=1)"
   ]
  },
  {
   "cell_type": "code",
   "execution_count": null,
   "metadata": {},
   "outputs": [],
   "source": [
    "gdf"
   ]
  },
  {
   "cell_type": "code",
   "execution_count": null,
   "metadata": {},
   "outputs": [],
   "source": [
    "f = folium.Figure(width=800, height=550)\n",
    "m = folium.Map(location=[30.87, -93.29],tiles='cartodbpositron', zoom_start=13, min_zoom = 10, max_zoom=15).add_to(f)"
   ]
  },
  {
   "cell_type": "code",
   "execution_count": null,
   "metadata": {},
   "outputs": [],
   "source": [
    "# g = folium.GeoJson(data=gdB).add_to(m)\n",
    "g = folium.GeoJson(data=gdA).add_to(m)\n",
    "m\n"
   ]
  },
  {
   "cell_type": "code",
   "execution_count": null,
   "metadata": {},
   "outputs": [],
   "source": [
    "wse_points.to_file(r'Z:\\js\\ResMap\\py\\output\\2yr Existing\\tempfiles\\wse_points.shp')\n",
    "\n",
    "# gdf\n"
   ]
  },
  {
   "cell_type": "code",
   "execution_count": null,
   "metadata": {},
   "outputs": [],
   "source": [
    "df2 = gdf.T.groupby(level=0).first().T\n",
    "\n",
    "df2"
   ]
  },
  {
   "cell_type": "code",
   "execution_count": null,
   "metadata": {},
   "outputs": [],
   "source": [
    "gdf2 = gpd.GeoDataFrame(df2, geometry=\"geometry\")\n",
    "gdf2.to_file(r'Z:\\js\\ResMap\\py\\output\\2yr Existing\\tempfiles\\wse_points_nearest.shp')\n"
   ]
  },
  {
   "cell_type": "code",
   "execution_count": null,
   "metadata": {},
   "outputs": [],
   "source": [
    "gdf_ts = gdf2.drop(columns=['Area2D', 'Cell_Index', 'Easting', 'Northing', 'dist', 'geometry',\n",
    "       'min_elev', 'point_id', 'point_name', 'type', 'wse_max', 'x', 'y'])"
   ]
  },
  {
   "cell_type": "code",
   "execution_count": null,
   "metadata": {},
   "outputs": [],
   "source": [
    "gdf_ts.loc[:].values"
   ]
  },
  {
   "cell_type": "code",
   "execution_count": null,
   "metadata": {},
   "outputs": [],
   "source": [
    "hiway_gdf.to_file(r'Z:\\js\\ResMap\\py\\output\\2yr Existing\\tempfiles\\hiway_gdf.shp')\n",
    "hiway_gdf"
   ]
  }
 ],
 "metadata": {
  "kernelspec": {
   "display_name": "pyRAS",
   "language": "python",
   "name": "python3"
  },
  "language_info": {
   "codemirror_mode": {
    "name": "ipython",
    "version": 3
   },
   "file_extension": ".py",
   "mimetype": "text/x-python",
   "name": "python",
   "nbconvert_exporter": "python",
   "pygments_lexer": "ipython3",
   "version": "3.9.16"
  },
  "orig_nbformat": 4
 },
 "nbformat": 4,
 "nbformat_minor": 2
}
